{
 "cells": [
  {
   "cell_type": "code",
   "execution_count": 84,
   "metadata": {},
   "outputs": [],
   "source": [
    "class DatetimeSelection:\n",
    "    _year = None\n",
    "    _month = None\n",
    "    _day = None\n",
    "    _hour = None\n",
    "    _minute = None\n",
    "    _second = None\n",
    "    _millisecond = None\n",
    "    \n",
    "    class Builder:\n",
    "        _year = None\n",
    "        _month = None\n",
    "        _day = None\n",
    "        _hour = None\n",
    "        _minute = None\n",
    "        _second = None\n",
    "        _millisecond = None        \n",
    "        \n",
    "        def __init__(self, _year, _month):\n",
    "            self._year = _year\n",
    "            self._month = _month\n",
    "        \n",
    "        def day(self, value):\n",
    "            _day = value\n",
    "            return self\n",
    "        \n",
    "        def hour(self, value):\n",
    "            _hour = value\n",
    "            return self\n",
    "\n",
    "        def minute(self, value):\n",
    "            _minute = value\n",
    "            return self\n",
    "        \n",
    "        def second(self, value):\n",
    "            _second = value\n",
    "            return self\n",
    "        \n",
    "        def millisecond(self, value):\n",
    "            _millisecond = value\n",
    "            return self  \n",
    "        \n",
    "        def build(self):\n",
    "            return DatetimeSelection(self)\n",
    "    \n",
    "    def __init__(self, builder):\n",
    "        try:\n",
    "            _year = builder._year\n",
    "            _month = builder._month\n",
    "            _day = builder._day\n",
    "            _hour = builder._hour\n",
    "            _minute = builder._minute\n",
    "            _second = builder._second\n",
    "            _millisecond = builder._millisecond\n",
    "        except:\n",
    "            raise AssertionError(\"Use a builder\")\n",
    "    "
   ]
  },
  {
   "cell_type": "code",
   "execution_count": 66,
   "metadata": {},
   "outputs": [
    {
     "ename": "TypeError",
     "evalue": "DatetimeSelection() takes no arguments",
     "output_type": "error",
     "traceback": [
      "\u001b[0;31m---------------------------------------------------------------------------\u001b[0m",
      "\u001b[0;31mTypeError\u001b[0m                                 Traceback (most recent call last)",
      "\u001b[0;32m<ipython-input-66-4dca4daecb36>\u001b[0m in \u001b[0;36m<module>\u001b[0;34m\u001b[0m\n\u001b[0;32m----> 1\u001b[0;31m \u001b[0mDatetimeSelection\u001b[0m\u001b[0;34m.\u001b[0m\u001b[0mBuilder\u001b[0m\u001b[0;34m(\u001b[0m\u001b[0;36m2022\u001b[0m\u001b[0;34m,\u001b[0m \u001b[0;36m3\u001b[0m\u001b[0;34m)\u001b[0m\u001b[0;34m.\u001b[0m\u001b[0mday\u001b[0m\u001b[0;34m(\u001b[0m\u001b[0;36m20\u001b[0m\u001b[0;34m)\u001b[0m\u001b[0;34m.\u001b[0m\u001b[0mhour\u001b[0m\u001b[0;34m(\u001b[0m\u001b[0;36m0\u001b[0m\u001b[0;34m)\u001b[0m\u001b[0;34m.\u001b[0m\u001b[0mminute\u001b[0m\u001b[0;34m(\u001b[0m\u001b[0;36m10\u001b[0m\u001b[0;34m)\u001b[0m\u001b[0;34m.\u001b[0m\u001b[0msecond\u001b[0m\u001b[0;34m(\u001b[0m\u001b[0;36m49\u001b[0m\u001b[0;34m)\u001b[0m\u001b[0;34m.\u001b[0m\u001b[0mmillisecond\u001b[0m\u001b[0;34m(\u001b[0m\u001b[0;36m323\u001b[0m\u001b[0;34m)\u001b[0m\u001b[0;34m.\u001b[0m\u001b[0mbuild\u001b[0m\u001b[0;34m(\u001b[0m\u001b[0;34m)\u001b[0m\u001b[0;34m\u001b[0m\u001b[0;34m\u001b[0m\u001b[0m\n\u001b[0m",
      "\u001b[0;32m<ipython-input-65-5b637bbbf261>\u001b[0m in \u001b[0;36mbuild\u001b[0;34m(self)\u001b[0m\n\u001b[1;32m     42\u001b[0m \u001b[0;34m\u001b[0m\u001b[0m\n\u001b[1;32m     43\u001b[0m         \u001b[0;32mdef\u001b[0m \u001b[0mbuild\u001b[0m\u001b[0;34m(\u001b[0m\u001b[0mself\u001b[0m\u001b[0;34m)\u001b[0m\u001b[0;34m:\u001b[0m\u001b[0;34m\u001b[0m\u001b[0;34m\u001b[0m\u001b[0m\n\u001b[0;32m---> 44\u001b[0;31m             \u001b[0;32mreturn\u001b[0m \u001b[0mDatetimeSelection\u001b[0m\u001b[0;34m(\u001b[0m\u001b[0mself\u001b[0m\u001b[0;34m)\u001b[0m\u001b[0;34m\u001b[0m\u001b[0;34m\u001b[0m\u001b[0m\n\u001b[0m\u001b[1;32m     45\u001b[0m \u001b[0;34m\u001b[0m\u001b[0m\n\u001b[1;32m     46\u001b[0m \u001b[0;34m\u001b[0m\u001b[0m\n",
      "\u001b[0;31mTypeError\u001b[0m: DatetimeSelection() takes no arguments"
     ]
    }
   ],
   "source": [
    "DatetimeSelection.Builder(2022, 3).day(20).hour(0).minute(10).second(49).millisecond(323).build()"
   ]
  },
  {
   "cell_type": "code",
   "execution_count": 43,
   "metadata": {},
   "outputs": [
    {
     "data": {
      "text/plain": [
       "__main__.Foo.Bar"
      ]
     },
     "execution_count": 43,
     "metadata": {},
     "output_type": "execute_result"
    }
   ],
   "source": [
    "Foo.Bar"
   ]
  },
  {
   "cell_type": "code",
   "execution_count": 25,
   "metadata": {},
   "outputs": [
    {
     "name": "stdout",
     "output_type": "stream",
     "text": [
      "Help on class Bar in module __main__:\n",
      "\n",
      "class Bar(builtins.object)\n",
      " |  Data descriptors defined here:\n",
      " |  \n",
      " |  __dict__\n",
      " |      dictionary for instance variables (if defined)\n",
      " |  \n",
      " |  __weakref__\n",
      " |      list of weak references to the object (if defined)\n",
      " |  \n",
      " |  ----------------------------------------------------------------------\n",
      " |  Data and other attributes defined here:\n",
      " |  \n",
      " |  var1 = 0\n",
      "\n"
     ]
    }
   ],
   "source": [
    "help(Foo().Bar)"
   ]
  },
  {
   "cell_type": "code",
   "execution_count": null,
   "metadata": {},
   "outputs": [],
   "source": []
  }
 ],
 "metadata": {
  "kernelspec": {
   "display_name": "commons3",
   "language": "python",
   "name": "commons3"
  },
  "language_info": {
   "codemirror_mode": {
    "name": "ipython",
    "version": 3
   },
   "file_extension": ".py",
   "mimetype": "text/x-python",
   "name": "python",
   "nbconvert_exporter": "python",
   "pygments_lexer": "ipython3",
   "version": "3.8.5"
  }
 },
 "nbformat": 4,
 "nbformat_minor": 4
}
